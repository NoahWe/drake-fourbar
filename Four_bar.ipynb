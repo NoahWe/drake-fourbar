{
 "cells": [
  {
   "cell_type": "code",
   "execution_count": 1,
   "metadata": {},
   "outputs": [
    {
     "name": "stderr",
     "output_type": "stream",
     "text": [
      "INFO:drake:Meshcat listening for connections at http://localhost:7000\n"
     ]
    }
   ],
   "source": [
    "\"\"\" Barebones simulation of a Four Bar mechanism in drake \"\"\"\n",
    "\n",
    "import numpy as np\n",
    "from IPython.display import HTML, display, SVG\n",
    "\n",
    "import pydot\n",
    "from pydrake.all import (AddMultibodyPlantSceneGraph, DiagramBuilder, Parser, Simulator, \n",
    "                        MeshcatVisualizer, StartMeshcat)    \n",
    "\n",
    "from pydrake.systems.primitives import ConstantVectorSource\n",
    "\n",
    "from pydrake.multibody import math as m\n",
    "from pydrake.multibody.tree import LinearBushingRollPitchYaw\n",
    "\n",
    "from pydrake.systems.framework import LeafSystem\n",
    "\n",
    "# Start the visualizer (run this cell only once, each instance consumes a port)\n",
    "meshcat = StartMeshcat()"
   ]
  },
  {
   "cell_type": "code",
   "execution_count": 2,
   "metadata": {},
   "outputs": [],
   "source": [
    "builder = DiagramBuilder()\n",
    "\n",
    "plant, scene_graph = AddMultibodyPlantSceneGraph(builder, time_step=0.0)\n",
    "body = Parser(plant).AddModelFromFile(\"Four_Bar/four_bar_pendulum.urdf\")\n",
    "\n",
    "# Connect left and right hip via a bushing joint to form quasi closed loop robot\n",
    "# Fixed joint using penalty method 3 for stiffness and method 2 for damping\n",
    "\n",
    "# Get both bodies to connect\n",
    "top = plant.GetBodyByName(\"top_dummy\")\n",
    "right = plant.GetBodyByName(\"right_dummy\")\n",
    "\n",
    "q_max = 0.1 * np.pi / 180  # 0.1 degrees maximum deviation\n",
    "x_max = 1E-4  # 0.1 mm max deviation\n",
    "\n",
    "M_max = 100   # Maximum estimated moment on the joint\n",
    "F_max = 100   # Maximum estimated force on the joint\n",
    "\n",
    "settling_time = 0.2 # Settling time in seconds\n",
    "settling_ratio = 0.01   # Settling ratios must be either 0.01, 0.02, 0.05 or 0.10\n",
    "\n",
    "def natural_freq(settling_ratio):\n",
    "    return {\"0.01\": 6.64/settling_time,\n",
    "            \"0.02\": 5.83/settling_time,\n",
    "            \"0.05\": 4.74/settling_time,\n",
    "            \"0.10\": 3.89/settling_time}[str(settling_ratio)]\n",
    "\n",
    "w_n = natural_freq(settling_ratio)\n",
    "zeta = 1. \n",
    "\n",
    "# Determine torque stiffness\n",
    "k_theta = M_max / q_max * np.ones(3)\n",
    "\n",
    "# Determine force stiffness\n",
    "k_x = F_max / x_max * np.ones(3)\n",
    "\n",
    "# Determine torque damping\n",
    "d_theta = 2*zeta*k_theta / w_n\n",
    "\n",
    "# Determine force damping\n",
    "d_x = 2*zeta*k_x / w_n\n",
    "\n",
    "# Create bushing element\n",
    "bushing = plant.AddForceElement(LinearBushingRollPitchYaw(\n",
    "            frameA=top.body_frame(),\n",
    "            frameC=right.body_frame(),\n",
    "            torque_stiffness_constants=k_theta,\n",
    "            torque_damping_constants=d_theta,\n",
    "            force_stiffness_constants=k_x,\n",
    "            force_damping_constants=d_x))\n",
    "\n",
    "# Finalize plant necessary for simulation\n",
    "plant.Finalize()\n",
    "\n",
    "# Visualization for the simulation\n",
    "meshcat.Delete()\n",
    "vis = MeshcatVisualizer.AddToBuilder(builder, scene_graph, meshcat)\n",
    "\n",
    "# Create default context and fix the input to zeros to make diagram\n",
    "context = plant.CreateDefaultContext()\n",
    "x0 = np.zeros(plant.num_continuous_states())\n",
    "plant.SetPositionsAndVelocities(context, x0)\n",
    "# CoM_0 = plant.CalcCenterOfMassPositionInWorld(context)[0:2]\n",
    "\n",
    "plant.get_actuation_input_port().FixValue(context, np.zeros(plant.num_actuators()))\n",
    "nr_states = plant.num_continuous_states()\n"
   ]
  },
  {
   "cell_type": "code",
   "execution_count": 3,
   "metadata": {},
   "outputs": [
    {
     "name": "stderr",
     "output_type": "stream",
     "text": [
      "WARNING:drake:OutputPort[2] (continuous_state) of System ::_::plant (MultibodyPlant<double>) is deprecated: Use the port named 'state' instead; the 'continuous_state' alias will be removed on or after 2023-03-01.\n",
      "WARNING:drake:OutputPort[8] (WorldModelInstance_continuous_state) of System ::_::plant (MultibodyPlant<double>) is deprecated: Use the port suffixed with '_state' instead; the '_continuous_state' alias will be removed on or after 2023-03-01.\n",
      "WARNING:drake:OutputPort[11] (DefaultModelInstance_continuous_state) of System ::_::plant (MultibodyPlant<double>) is deprecated: Use the port suffixed with '_state' instead; the '_continuous_state' alias will be removed on or after 2023-03-01.\n",
      "WARNING:drake:OutputPort[14] (Four Bar_continuous_state) of System ::_::plant (MultibodyPlant<double>) is deprecated: Use the port suffixed with '_state' instead; the '_continuous_state' alias will be removed on or after 2023-03-01.\n"
     ]
    },
    {
     "data": {
      "image/svg+xml": "<svg xmlns=\"http://www.w3.org/2000/svg\" xmlns:xlink=\"http://www.w3.org/1999/xlink\" width=\"1856pt\" height=\"587pt\" viewBox=\"0.00 0.00 1856.00 587.00\">\n<g id=\"graph0\" class=\"graph\" transform=\"scale(1 1) rotate(0) translate(4 583)\">\n<title>_68869136</title>\n<polygon fill=\"white\" stroke=\"transparent\" points=\"-4,4 -4,-583 1852,-583 1852,4 -4,4\"/>\n<g id=\"clust1\" class=\"cluster\">\n<title>cluster68869136diagram</title>\n<polygon fill=\"none\" stroke=\"black\" points=\"8,-8 8,-571 1840,-571 1840,-8 8,-8\"/>\n<text text-anchor=\"middle\" x=\"924\" y=\"-555.8\" font-family=\"Times,serif\" font-size=\"14.00\">68869136</text>\n</g>\n<g id=\"clust4\" class=\"cluster\">\n<title>cluster68869136subsystems</title>\n<polygon fill=\"none\" stroke=\"white\" points=\"16,-16 16,-540 1832,-540 1832,-16 16,-16\"/>\n</g>\n<!-- 68431280 -->\n<g id=\"node1\" class=\"node\">\n<title>68431280</title>\n<polygon fill=\"none\" stroke=\"black\" points=\"495,-25 495,-531 1117,-531 1117,-25 495,-25\"/>\n<text text-anchor=\"middle\" x=\"806\" y=\"-515.8\" font-family=\"Times,serif\" font-size=\"14.00\">plant</text>\n<polyline fill=\"none\" stroke=\"black\" points=\"495,-508 1117,-508 \"/>\n<text text-anchor=\"middle\" x=\"619\" y=\"-469.8\" font-family=\"Times,serif\" font-size=\"14.00\">geometry_query</text>\n<polyline fill=\"none\" stroke=\"black\" points=\"495,-439 743,-439 \"/>\n<text text-anchor=\"middle\" x=\"619\" y=\"-400.8\" font-family=\"Times,serif\" font-size=\"14.00\">WorldModelInstance_actuation</text>\n<polyline fill=\"none\" stroke=\"black\" points=\"495,-370 743,-370 \"/>\n<text text-anchor=\"middle\" x=\"619\" y=\"-331.8\" font-family=\"Times,serif\" font-size=\"14.00\">DefaultModelInstance_actuation</text>\n<polyline fill=\"none\" stroke=\"black\" points=\"495,-301 743,-301 \"/>\n<text text-anchor=\"middle\" x=\"619\" y=\"-262.8\" font-family=\"Times,serif\" font-size=\"14.00\">Four Bar_actuation</text>\n<polyline fill=\"none\" stroke=\"black\" points=\"495,-232 743,-232 \"/>\n<text text-anchor=\"middle\" x=\"619\" y=\"-193.8\" font-family=\"Times,serif\" font-size=\"14.00\">actuation</text>\n<polyline fill=\"none\" stroke=\"black\" points=\"495,-163 743,-163 \"/>\n<text text-anchor=\"middle\" x=\"619\" y=\"-124.8\" font-family=\"Times,serif\" font-size=\"14.00\">applied_generalized_force</text>\n<polyline fill=\"none\" stroke=\"black\" points=\"495,-94 743,-94 \"/>\n<text text-anchor=\"middle\" x=\"619\" y=\"-55.8\" font-family=\"Times,serif\" font-size=\"14.00\">applied_spatial_force</text>\n<polyline fill=\"none\" stroke=\"black\" points=\"743,-25 743,-508 \"/>\n<text text-anchor=\"middle\" x=\"930\" y=\"-492.8\" font-family=\"Times,serif\" font-size=\"14.00\">geometry_pose</text>\n<polyline fill=\"none\" stroke=\"black\" points=\"743,-485 1117,-485 \"/>\n<text text-anchor=\"middle\" x=\"930\" y=\"-469.8\" font-family=\"Times,serif\" font-size=\"14.00\">state</text>\n<polyline fill=\"none\" stroke=\"black\" points=\"743,-462 1117,-462 \"/>\n<text text-anchor=\"middle\" x=\"930\" y=\"-446.8\" font-family=\"Times,serif\" font-size=\"14.00\">continuous_state</text>\n<polyline fill=\"none\" stroke=\"black\" points=\"743,-439 1117,-439 \"/>\n<text text-anchor=\"middle\" x=\"930\" y=\"-423.8\" font-family=\"Times,serif\" font-size=\"14.00\">body_poses</text>\n<polyline fill=\"none\" stroke=\"black\" points=\"743,-416 1117,-416 \"/>\n<text text-anchor=\"middle\" x=\"930\" y=\"-400.8\" font-family=\"Times,serif\" font-size=\"14.00\">spatial_velocities</text>\n<polyline fill=\"none\" stroke=\"black\" points=\"743,-393 1117,-393 \"/>\n<text text-anchor=\"middle\" x=\"930\" y=\"-377.8\" font-family=\"Times,serif\" font-size=\"14.00\">spatial_accelerations</text>\n<polyline fill=\"none\" stroke=\"black\" points=\"743,-370 1117,-370 \"/>\n<text text-anchor=\"middle\" x=\"930\" y=\"-354.8\" font-family=\"Times,serif\" font-size=\"14.00\">generalized_acceleration</text>\n<polyline fill=\"none\" stroke=\"black\" points=\"743,-347 1117,-347 \"/>\n<text text-anchor=\"middle\" x=\"930\" y=\"-331.8\" font-family=\"Times,serif\" font-size=\"14.00\">WorldModelInstance_state</text>\n<polyline fill=\"none\" stroke=\"black\" points=\"743,-324 1117,-324 \"/>\n<text text-anchor=\"middle\" x=\"930\" y=\"-308.8\" font-family=\"Times,serif\" font-size=\"14.00\">WorldModelInstance_continuous_state</text>\n<polyline fill=\"none\" stroke=\"black\" points=\"743,-301 1117,-301 \"/>\n<text text-anchor=\"middle\" x=\"930\" y=\"-285.8\" font-family=\"Times,serif\" font-size=\"14.00\">WorldModelInstance_generalized_acceleration</text>\n<polyline fill=\"none\" stroke=\"black\" points=\"743,-278 1117,-278 \"/>\n<text text-anchor=\"middle\" x=\"930\" y=\"-262.8\" font-family=\"Times,serif\" font-size=\"14.00\">DefaultModelInstance_state</text>\n<polyline fill=\"none\" stroke=\"black\" points=\"743,-255 1117,-255 \"/>\n<text text-anchor=\"middle\" x=\"930\" y=\"-239.8\" font-family=\"Times,serif\" font-size=\"14.00\">DefaultModelInstance_continuous_state</text>\n<polyline fill=\"none\" stroke=\"black\" points=\"743,-232 1117,-232 \"/>\n<text text-anchor=\"middle\" x=\"930\" y=\"-216.8\" font-family=\"Times,serif\" font-size=\"14.00\">DefaultModelInstance_generalized_acceleration</text>\n<polyline fill=\"none\" stroke=\"black\" points=\"743,-209 1117,-209 \"/>\n<text text-anchor=\"middle\" x=\"930\" y=\"-193.8\" font-family=\"Times,serif\" font-size=\"14.00\">Four Bar_state</text>\n<polyline fill=\"none\" stroke=\"black\" points=\"743,-186 1117,-186 \"/>\n<text text-anchor=\"middle\" x=\"930\" y=\"-170.8\" font-family=\"Times,serif\" font-size=\"14.00\">Four Bar_continuous_state</text>\n<polyline fill=\"none\" stroke=\"black\" points=\"743,-163 1117,-163 \"/>\n<text text-anchor=\"middle\" x=\"930\" y=\"-147.8\" font-family=\"Times,serif\" font-size=\"14.00\">Four Bar_generalized_acceleration</text>\n<polyline fill=\"none\" stroke=\"black\" points=\"743,-140 1117,-140 \"/>\n<text text-anchor=\"middle\" x=\"930\" y=\"-124.8\" font-family=\"Times,serif\" font-size=\"14.00\">WorldModelInstance_generalized_contact_forces</text>\n<polyline fill=\"none\" stroke=\"black\" points=\"743,-117 1117,-117 \"/>\n<text text-anchor=\"middle\" x=\"930\" y=\"-101.8\" font-family=\"Times,serif\" font-size=\"14.00\">DefaultModelInstance_generalized_contact_forces</text>\n<polyline fill=\"none\" stroke=\"black\" points=\"743,-94 1117,-94 \"/>\n<text text-anchor=\"middle\" x=\"930\" y=\"-78.8\" font-family=\"Times,serif\" font-size=\"14.00\">Four Bar_generalized_contact_forces</text>\n<polyline fill=\"none\" stroke=\"black\" points=\"743,-71 1117,-71 \"/>\n<text text-anchor=\"middle\" x=\"930\" y=\"-55.8\" font-family=\"Times,serif\" font-size=\"14.00\">reaction_forces</text>\n<polyline fill=\"none\" stroke=\"black\" points=\"743,-48 1117,-48 \"/>\n<text text-anchor=\"middle\" x=\"930\" y=\"-32.8\" font-family=\"Times,serif\" font-size=\"14.00\">contact_results</text>\n</g>\n<!-- 67521136 -->\n<g id=\"node2\" class=\"node\">\n<title>67521136</title>\n<polygon fill=\"none\" stroke=\"black\" points=\"1153,-456.5 1153,-525.5 1366,-525.5 1366,-456.5 1153,-456.5\"/>\n<text text-anchor=\"middle\" x=\"1259.5\" y=\"-510.3\" font-family=\"Times,serif\" font-size=\"14.00\">scene_graph</text>\n<polyline fill=\"none\" stroke=\"black\" points=\"1153,-502.5 1366,-502.5 \"/>\n<text text-anchor=\"middle\" x=\"1230.5\" y=\"-487.3\" font-family=\"Times,serif\" font-size=\"14.00\">plant_pose</text>\n<polyline fill=\"none\" stroke=\"black\" points=\"1153,-479.5 1308,-479.5 \"/>\n<text text-anchor=\"middle\" x=\"1230.5\" y=\"-464.3\" font-family=\"Times,serif\" font-size=\"14.00\">plant_configuration</text>\n<polyline fill=\"none\" stroke=\"black\" points=\"1308,-456.5 1308,-502.5 \"/>\n<text text-anchor=\"middle\" x=\"1337\" y=\"-475.8\" font-family=\"Times,serif\" font-size=\"14.00\">query</text>\n</g>\n<!-- 68431280&#45;&gt;67521136 -->\n<g id=\"edge1\" class=\"edge\">\n<title>68431280:y0-&gt;67521136:u0</title>\n<path fill=\"none\" stroke=\"black\" d=\"M1117,-497C1129.17,-497 1134.21,-493.62 1142.81,-491.94\"/>\n<polygon fill=\"black\" stroke=\"black\" points=\"1143.36,-495.4 1153,-491 1142.72,-488.43 1143.36,-495.4\"/>\n</g>\n<!-- 67521136&#45;&gt;68431280 -->\n<g id=\"edge2\" class=\"edge\">\n<title>67521136:y0-&gt;68431280:u0</title>\n<path fill=\"none\" stroke=\"black\" d=\"M1337.5,-455C1337.5,-373 1222.23,-412.05 1153,-456 1121.62,-475.92 1148.44,-511.66 1117,-531.5 1058.55,-568.38 544.29,-579.94 495,-531.5 479.76,-516.52 471.44,-486.41 484.05,-476.93\"/>\n<polygon fill=\"black\" stroke=\"black\" points=\"485.39,-480.18 494,-474 483.42,-473.46 485.39,-480.18\"/>\n</g>\n<!-- 68627600 -->\n<g id=\"node3\" class=\"node\">\n<title>68627600</title>\n<polygon fill=\"none\" stroke=\"black\" points=\"1402,-468 1402,-514 1824,-514 1824,-468 1402,-468\"/>\n<text text-anchor=\"middle\" x=\"1613\" y=\"-498.8\" font-family=\"Times,serif\" font-size=\"14.00\">drake/geometry/MeshcatVisualizer@0000000004172c90</text>\n<polyline fill=\"none\" stroke=\"black\" points=\"1402,-491 1824,-491 \"/>\n<text text-anchor=\"middle\" x=\"1529\" y=\"-475.8\" font-family=\"Times,serif\" font-size=\"14.00\">query_object</text>\n<polyline fill=\"none\" stroke=\"black\" points=\"1656,-468 1656,-491 \"/>\n<text text-anchor=\"middle\" x=\"1740\" y=\"-475.8\" font-family=\"Times,serif\" font-size=\"14.00\"> </text>\n</g>\n<!-- 67521136&#45;&gt;68627600 -->\n<g id=\"edge4\" class=\"edge\">\n<title>67521136:y0-&gt;68627600:u0</title>\n<path fill=\"none\" stroke=\"black\" d=\"M1366,-479C1378,-479 1383.25,-479 1391.88,-479\"/>\n<polygon fill=\"black\" stroke=\"black\" points=\"1392,-482.5 1402,-479 1392,-475.5 1392,-482.5\"/>\n</g>\n<!-- 67522544 -->\n<g id=\"node4\" class=\"node\">\n<title>67522544</title>\n<polygon fill=\"none\" stroke=\"black\" points=\"24,-186 24,-232 459,-232 459,-186 24,-186\"/>\n<text text-anchor=\"middle\" x=\"241.5\" y=\"-216.8\" font-family=\"Times,serif\" font-size=\"14.00\">drake/systems/ConstantVectorSource@0000000004064ff0</text>\n<polyline fill=\"none\" stroke=\"black\" points=\"24,-209 459,-209 \"/>\n<text text-anchor=\"middle\" x=\"129.5\" y=\"-193.8\" font-family=\"Times,serif\" font-size=\"14.00\"> </text>\n<polyline fill=\"none\" stroke=\"black\" points=\"235,-186 235,-209 \"/>\n<text text-anchor=\"middle\" x=\"347\" y=\"-193.8\" font-family=\"Times,serif\" font-size=\"14.00\">y0</text>\n</g>\n<!-- 67522544&#45;&gt;68431280 -->\n<g id=\"edge3\" class=\"edge\">\n<title>67522544:y0-&gt;68431280:u4</title>\n<path fill=\"none\" stroke=\"black\" d=\"M459,-197C471,-197 476.25,-197 484.88,-197\"/>\n<polygon fill=\"black\" stroke=\"black\" points=\"485,-200.5 495,-197 485,-193.5 485,-200.5\"/>\n</g>\n</g>\n</svg>",
      "text/plain": [
       "<IPython.core.display.SVG object>"
      ]
     },
     "metadata": {},
     "output_type": "display_data"
    }
   ],
   "source": [
    "input = builder.AddSystem(ConstantVectorSource(np.zeros(plant.num_actuators())))\n",
    "builder.Connect(input.get_output_port(), plant.get_actuation_input_port())\n",
    "\n",
    "diagram = builder.Build()\n",
    "display(SVG(pydot.graph_from_dot_data(diagram.GetGraphvizString(max_depth=2))[0].create_svg()))"
   ]
  },
  {
   "cell_type": "code",
   "execution_count": 4,
   "metadata": {},
   "outputs": [],
   "source": [
    "# Simulator\n",
    "\n",
    "simulator = Simulator(diagram)\n",
    "sim_context = simulator.get_mutable_context()\n",
    "\n",
    "sim_context.SetTime(0.)\n",
    "\n",
    "q0 = np.array([0.01, 0, 0, 0])\n",
    "x0 = np.hstack((q0, np.zeros(plant.num_velocities())))\n",
    "\n",
    "sim_context.SetContinuousState(x0)\n",
    "\n",
    "# Record the simulation of 2 seconds\n",
    "vis.StartRecording()\n",
    "simulator.set_publish_every_time_step(True)\n",
    "simulator.AdvanceTo(2)\n",
    "vis.StopRecording()\n",
    "vis.PublishRecording()\n",
    "\n",
    "meshcat.DeleteAddedControls()"
   ]
  }
 ],
 "metadata": {
  "kernelspec": {
   "display_name": "Python 3.8.10 64-bit",
   "language": "python",
   "name": "python3"
  },
  "language_info": {
   "codemirror_mode": {
    "name": "ipython",
    "version": 3
   },
   "file_extension": ".py",
   "mimetype": "text/x-python",
   "name": "python",
   "nbconvert_exporter": "python",
   "pygments_lexer": "ipython3",
   "version": "3.8.10"
  },
  "orig_nbformat": 4,
  "vscode": {
   "interpreter": {
    "hash": "916dbcbb3f70747c44a77c7bcd40155683ae19c65e1c03b4aa3499c5328201f1"
   }
  }
 },
 "nbformat": 4,
 "nbformat_minor": 2
}
